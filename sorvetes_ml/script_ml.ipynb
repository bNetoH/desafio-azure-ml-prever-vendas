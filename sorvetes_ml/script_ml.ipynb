{
 "cells": [
  {
   "cell_type": "code",
   "execution_count": null,
   "id": "8085860d",
   "metadata": {
    "lines_to_next_cell": 2
   },
   "outputs": [],
   "source": [
    "from azure.identity import DefaultAzureCredential, InteractiveBrowserCredential\n",
    "from azure.ai.ml import MLClient\n",
    "try:\n",
    "    credential = DefaultAzureCredential()\n",
    "    credential.get_token(\"https://management.azure.com/.default\")\n",
    "except Exception as e:\n",
    "    print(f\"Error using DefaultAzureCredential: {e}\")\n",
    "    credential = InteractiveBrowserCredential()\n",
    "ml_client = MLClient(\n",
    "    credential=credential,\n",
    "    subscription_id=\"<enter-your-subscription-id>\",\n",
    "    resource_group_name=\"dio-lab-rg\",\n",
    "    workspace_name=\"lab-desafio-ws\"\n",
    ")"
   ]
  },
  {
   "cell_type": "code",
   "execution_count": null,
   "id": "29b0ebd3",
   "metadata": {
    "lines_to_next_cell": 2
   },
   "outputs": [],
   "source": [
    "%%writefile src/vendas_training.py\n",
    "import pandas as pd\n",
    "import numpy as np\n",
    "from sklearn.model_selection import train_test_split\n",
    "from sklearn.linear_model import LinearRegression\n",
    "from sklearn.metrics import roc_auc_score, roc_curve\n",
    "print(\"Loading data...\")\n",
    "sorvetes = pd.read_csv(\"src/historico_vendas_e_temperatura.csv\")\n",
    "x, y = sorvetes[['Temperatura']].values, sorvetes[['Vendas']].values\n",
    "x_train, x_test, y_train, y_test = train_test_split(x, y, test_size=0.2, random_state=0)\n",
    "reg = 0.01\n",
    "print(\"Training a logistic model with regulariztion rate of \", reg)\n",
    "model = LinearRegression(C=1/reg, solver='liblinear').fit(x_train, y_train)\n",
    "y_hat = model.predict(x_test)\n",
    "acc = np.average(y_hat == y_test)\n",
    "print(\"Accuracy: \", acc)\n",
    "y_score = model.predict(x_test)\n",
    "auc = roc_auc_score(y_test, y_score[:,1])\n",
    "print(\"AUC: \", auc)"
   ]
  },
  {
   "cell_type": "code",
   "execution_count": null,
   "id": "4e4c5d1f",
   "metadata": {},
   "outputs": [],
   "source": [
    "from azure.ai.ml import command\n",
    "job = command(\n",
    "    code=\"./src/vendas_training.py\",\n",
    "    command=\"python vendas_training.py\",\n",
    "    environment=\"AzureML-sklearn-0.24-ubuntu20.04-py37-cpu@latest\",\n",
    "    compute=\"compute-ml-cluster\",\n",
    "    display_name=\"vendas-training-job\",\n",
    "    experiment_name=\"vendas-training-experiment\"\n",
    ")\n",
    "returned_job = ml_client.create_or_update(job)\n",
    "aml_url = returned_job.studio_url\n",
    "print(f\"Job created with ID: {returned_job.id} Monitoring your job at: {aml_url}\")"
   ]
  }
 ],
 "metadata": {
  "jupytext": {
   "cell_metadata_filter": "-all",
   "main_language": "python",
   "notebook_metadata_filter": "-all"
  },
  "language_info": {
   "name": "python"
  }
 },
 "nbformat": 4,
 "nbformat_minor": 5
}
